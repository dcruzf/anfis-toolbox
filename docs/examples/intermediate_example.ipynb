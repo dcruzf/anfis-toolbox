{
 "cells": [
  {
   "cell_type": "markdown",
   "id": "6cb1e456",
   "metadata": {},
   "source": [
    "# Basic: Exploring QuickANFIS Options\n",
    "This notebook shows how to use `QuickANFIS` effectively: selecting membership function types, choosing initialization (grid vs FCM), controlling the number of MFs, using `random_state` for determinism, and the alternative `for_function_approximation` helper."
   ]
  },
  {
   "cell_type": "markdown",
   "id": "ca1633ea",
   "metadata": {},
   "source": [
    "## 1) Imports and setup\n",
    "We'll import `QuickANFIS` and helpers. We'll also set a random seed for reproducibility."
   ]
  },
  {
   "cell_type": "code",
   "execution_count": 19,
   "id": "8454a377",
   "metadata": {},
   "outputs": [],
   "source": [
    "import matplotlib.pyplot as plt\n",
    "import numpy as np\n",
    "\n",
    "from anfis_toolbox import QuickANFIS, quick_evaluate\n",
    "from anfis_toolbox.optim import SGDTrainer\n",
    "\n",
    "np.random.seed(42)  # For reproducibility"
   ]
  },
  {
   "cell_type": "markdown",
   "id": "b0d98ceb",
   "metadata": {},
   "source": [
    "## 2) Create a small 2D regression dataset\n",
    "We'll reuse this dataset to compare QuickANFIS options."
   ]
  },
  {
   "cell_type": "code",
   "execution_count": 20,
   "id": "14dd1571",
   "metadata": {},
   "outputs": [
    {
     "data": {
      "text/plain": [
       "((300, 2), (300, 1))"
      ]
     },
     "execution_count": 20,
     "metadata": {},
     "output_type": "execute_result"
    }
   ],
   "source": [
    "n = 300\n",
    "X1 = np.random.uniform(-3, 3, size=n)\n",
    "X2 = np.random.uniform(-2, 2, size=n)\n",
    "X = np.column_stack([X1, X2])\n",
    "y = np.sin(X1) + 0.3 * (X2 ** 2) + 0.1 * np.random.randn(n)\n",
    "y = y.reshape(-1, 1)\n",
    "X.shape, y.shape"
   ]
  },
  {
   "cell_type": "markdown",
   "id": "7769b28f",
   "metadata": {},
   "source": [
    "## 3) Quick start: defaults (gaussian MFs, grid init)\n",
    "`QuickANFIS.for_regression` infers input ranges from data, distributes MFs on a grid, and uses Gaussian MFs by default. Training via `model.fit` uses the Hybrid trainer by default."
   ]
  },
  {
   "cell_type": "code",
   "execution_count": null,
   "id": "0fd92bea",
   "metadata": {},
   "outputs": [
    {
     "name": "stdout",
     "output_type": "stream",
     "text": [
      "==================================================\n",
      "ANFIS Model Evaluation Results\n",
      "==================================================\n",
      "Mean Squared Error (MSE):     0.009289\n",
      "Root Mean Squared Error:      0.096377\n",
      "Mean Absolute Error (MAE):    0.077391\n",
      "R-squared (R²):               0.9861\n",
      "Mean Abs. Percentage Error:   55.15%\n",
      "Maximum Error:                0.296354\n",
      "Standard Deviation of Error:  0.096377\n",
      "==================================================\n"
     ]
    }
   ],
   "source": [
    "model = QuickANFIS.for_regression(\n",
    "    X,\n",
    "    n_mfs=3,\n",
    "    mf_type=\"gaussian\",\n",
    "    init=\"grid\"\n",
    ")\n",
    "losses = model.fit(X, y, epochs=80, learning_rate=0.02, verbose=False)\n",
    "metrics = quick_evaluate(model, X, y, print_results=True)"
   ]
  },
  {
   "cell_type": "markdown",
   "id": "e3c61dca",
   "metadata": {},
   "source": [
    "## 4) Choosing membership function type (`mf_type`)\n",
    "`mf_type` controls the shape family used for all inputs. Supported types include: `gaussian`, `triangular`, `trapezoidal`, `bell` (aka `gbell`), `sigmoidal` (aka `sigmoid`), `sshape` (aka `s`), `zshape` (aka `z`), and `pi` (aka `pimf`). We'll compare a few quickly."
   ]
  },
  {
   "cell_type": "code",
   "execution_count": 29,
   "id": "80533a05",
   "metadata": {},
   "outputs": [
    {
     "name": "stdout",
     "output_type": "stream",
     "text": [
      "MF type: gaussian, final training loss: 0.0093\n",
      "MF type: triangular, final training loss: 0.0119\n",
      "MF type: triangular, final training loss: 0.0119\n",
      "MF type: bell, final training loss: 0.0092\n",
      "MF type: bell, final training loss: 0.0092\n",
      "MF type: sigmoidal, final training loss: 0.0093\n",
      "MF type: sigmoidal, final training loss: 0.0093\n"
     ]
    }
   ],
   "source": [
    "mf_types = [\"gaussian\", \"triangular\", \"bell\", \"sigmoidal\"]\n",
    "results_mf = {}\n",
    "for mft in mf_types:\n",
    "    m = QuickANFIS.for_regression(X, n_mfs=3, mf_type=mft, init=\"grid\")\n",
    "    ls = m.fit(X, y, epochs=60, learning_rate=0.02, verbose=False)\n",
    "    results_mf[mft] = float(ls[-1])\n",
    "    print(f\"MF type: {mft}, final training loss: {ls[-1]:.4f}\")"
   ]
  },
  {
   "cell_type": "markdown",
   "id": "c53cc3cc",
   "metadata": {},
   "source": [
    "## 5) Initialization: `init=\"grid\"` vs `init=\"fcm\"`\n",
    "- Grid: places MFs evenly across observed range (with small margins).\n",
    "- FCM: uses Fuzzy C-Means on each input column to set centers and widths; supports all MF families used above."
   ]
  },
  {
   "cell_type": "code",
   "execution_count": null,
   "id": "5f26cd41",
   "metadata": {},
   "outputs": [
    {
     "name": "stdout",
     "output_type": "stream",
     "text": [
      "Final training loss (grid init): 0.0082\n",
      "Final training loss (fcm init): 0.0095\n"
     ]
    }
   ],
   "source": [
    "# Compare grid vs fcm for the same MF type\n",
    "m_grid = QuickANFIS.for_regression(\n",
    "    X,\n",
    "    n_mfs=5,\n",
    "    mf_type=\"gaussian\",\n",
    "    init=\"grid\"\n",
    ")\n",
    "loss_grid = m_grid.fit(\n",
    "    X,\n",
    "    y,\n",
    "    epochs=60,\n",
    "    learning_rate=0.02,\n",
    "    verbose=False\n",
    ")[-1]\n",
    "\n",
    "m_fcm = QuickANFIS.for_regression(\n",
    "    X,\n",
    "    n_mfs=5,\n",
    "    mf_type=\"gaussian\",\n",
    "    init=\"fcm\",\n",
    "    random_state=42\n",
    ")\n",
    "loss_fcm = m_fcm.fit(\n",
    "    X,\n",
    "    y,\n",
    "    epochs=60,\n",
    "    learning_rate=0.02,\n",
    "    verbose=False\n",
    ")[-1]\n",
    "\n",
    "print(f\"Final training loss (grid init): {loss_grid:.4f}\")\n",
    "print(f\"Final training loss (fcm init): {loss_fcm:.4f}\")"
   ]
  },
  {
   "cell_type": "markdown",
   "id": "5bc91cbf",
   "metadata": {},
   "source": [
    "## 6) Number of MFs per input (`n_mfs`)\n",
    "Increasing `n_mfs` adds rules and capacity. More isn't always better—watch for overfitting and compute cost."
   ]
  },
  {
   "cell_type": "code",
   "execution_count": 31,
   "id": "207bec48",
   "metadata": {},
   "outputs": [
    {
     "name": "stdout",
     "output_type": "stream",
     "text": [
      "n_mfs: 2, final training loss: 0.0481\n",
      "n_mfs: 3, final training loss: 0.0192\n",
      "n_mfs: 3, final training loss: 0.0192\n",
      "n_mfs: 5, final training loss: 0.0095\n",
      "n_mfs: 5, final training loss: 0.0095\n",
      "n_mfs: 7, final training loss: 0.0054\n",
      "n_mfs: 7, final training loss: 0.0054\n"
     ]
    }
   ],
   "source": [
    "nmfs_list = [2, 3, 5, 7]\n",
    "results_nmfs = {}\n",
    "for k in nmfs_list:\n",
    "    m = QuickANFIS.for_regression(X, n_mfs=k, mf_type=\"gaussian\", init=\"fcm\", random_state=42)\n",
    "    ls = m.fit(X, y, epochs=60, learning_rate=0.02, verbose=False)\n",
    "    results_nmfs[k] = float(ls[-1])\n",
    "    print(f\"n_mfs: {k}, final training loss: {ls[-1]:.4f}\")"
   ]
  },
  {
   "cell_type": "markdown",
   "id": "381b629e",
   "metadata": {},
   "source": [
    "## 7) Determinism and alternative trainer\n",
    "- Use `random_state` with `init=\"fcm\"` to get repeatable MF initialization.\n",
    "- You can also pass a trainer explicitly to `fit`, e.g., `SGDTrainer` for pure backprop."
   ]
  },
  {
   "cell_type": "code",
   "execution_count": 32,
   "id": "21641d87",
   "metadata": {},
   "outputs": [
    {
     "data": {
      "image/png": "[encoded data removed]",
      "text/plain": [
       "<Figure size 640x480 with 1 Axes>"
      ]
     },
     "metadata": {},
     "output_type": "display_data"
    },
    {
     "name": "stdout",
     "output_type": "stream",
     "text": [
      "Final training loss (deterministic FCM init): 0.0124\n",
      "Final training loss (SGD trainer): 0.1083\n"
     ]
    }
   ],
   "source": [
    "# Deterministic FCM init\n",
    "m1 = QuickANFIS.for_regression(X, n_mfs=4, mf_type=\"bell\", init=\"fcm\", random_state=123)\n",
    "loss1 = m1.fit(X, y, epochs=40, learning_rate=0.02, verbose=False)[-1]\n",
    "\n",
    "m2 = QuickANFIS.for_regression(X, n_mfs=4, mf_type=\"bell\", init=\"fcm\", random_state=123)\n",
    "loss2 = m2.fit(X, y, epochs=40, learning_rate=0.02, verbose=False)[-1]\n",
    "\n",
    "# Explicit SGD trainer\n",
    "sgd = SGDTrainer(learning_rate=0.02, epochs=40, batch_size=32, shuffle=True, verbose=False)\n",
    "m_sgd = QuickANFIS.for_regression(X, n_mfs=4, mf_type=\"bell\", init=\"fcm\", random_state=123)\n",
    "loss_sgd = m_sgd.fit(X, y, trainer=sgd)[-1]\n",
    "\n",
    "# Simple parity plot for the last model\n",
    "y_pred = m_sgd.predict(X)\n",
    "plt.scatter(y, y_pred, s=8, alpha=0.5)\n",
    "mn, mx = float(np.min(y)), float(np.max(y))\n",
    "plt.plot([mn, mx], [mn, mx], \"r--\", lw=2)\n",
    "plt.xlabel(\"y true\")\n",
    "plt.ylabel(\"y pred\")\n",
    "plt.title(\"Parity plot (SGD-trained)\")\n",
    "plt.tight_layout()\n",
    "plt.show()\n",
    "\n",
    "print(f\"Final training loss (deterministic FCM init): {loss1:.4f}\")\n",
    "print(f\"Final training loss (SGD trainer): {loss_sgd:.4f}\")"
   ]
  },
  {
   "cell_type": "markdown",
   "id": "d0d570f3",
   "metadata": {},
   "source": [
    "## Tips & Next steps\n",
    "- Start with `mf_type=\"gaussian\"` and `init=\"fcm\"` for robust baselines.\n",
    "- Sweep `n_mfs` to balance fit quality and complexity; monitor R² or validation MSE.\n",
    "- Try different MF families (`triangular`, `bell`, `pi`) when residuals show shape mismatches.\n",
    "- For larger problems or streaming data, use `SGDTrainer` with mini-batches.\n",
    "- For function approximation on known ranges, use `QuickANFIS.for_function_approximation([(min,max), ...])`."
   ]
  }
 ],
 "metadata": {
  "kernelspec": {
   "display_name": ".jupyter",
   "language": "python",
   "name": "python3"
  },
  "language_info": {
   "codemirror_mode": {
    "name": "ipython",
    "version": 3
   },
   "file_extension": ".py",
   "mimetype": "text/x-python",
   "name": "python",
   "nbconvert_exporter": "python",
   "pygments_lexer": "ipython3",
   "version": "3.13.3"
  }
 },
 "nbformat": 4,
 "nbformat_minor": 5
}
